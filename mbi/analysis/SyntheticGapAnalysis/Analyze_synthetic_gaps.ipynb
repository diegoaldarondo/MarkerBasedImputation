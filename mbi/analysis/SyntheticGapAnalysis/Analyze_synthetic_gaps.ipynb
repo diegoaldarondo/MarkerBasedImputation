{
 "cells": [
  {
   "cell_type": "markdown",
   "metadata": {},
   "source": [
    "# Analyze synthetic gap experiments\n",
    "### Includes \n",
    "* Aggregate median error heatmaps\n",
    "* Individual median error heatmaps\n",
    "* Example imputation experiment trace"
   ]
  },
  {
   "cell_type": "code",
   "execution_count": 1,
   "metadata": {},
   "outputs": [],
   "source": [
    "import numpy as np\n",
    "from scipy.io import loadmat\n",
    "import os\n",
    "import h5py\n",
    "import matplotlib\n",
    "%matplotlib inline\n",
    "import matplotlib.pyplot as plt\n",
    "from pathlib import Path\n",
    "import re"
   ]
  },
  {
   "cell_type": "code",
   "execution_count": 2,
   "metadata": {},
   "outputs": [
    {
     "name": "stdout",
     "output_type": "stream",
     "text": [
      "Data from: \n",
      "/n/home02/daldarondo/LabDir/Diego/data/JDM27/20171207/models/model_ensemble/viz/analyze_6_26_19/errors.mat\n",
      "/n/home02/daldarondo/LabDir/Diego/data/JDM25/20170917/models/model_ensemble/viz/analyze_6_26_19/errors.mat\n",
      "/n/home02/daldarondo/LabDir/Diego/data/JDM25/20170919/models/model_ensemble/viz/analyze_6_26_19/errors.mat\n",
      "/n/home02/daldarondo/LabDir/Diego/data/JDM25/20170916/models/stride_5/model_ensemble/viz/analyze_6_26_19/errors.mat\n",
      "/n/home02/daldarondo/LabDir/Diego/data/JDM32/20171024/models/model_ensemble/viz/analyze_6_26_19/errors.mat\n",
      "/n/home02/daldarondo/LabDir/Diego/data/JDM32/20171023/models/stride_5/model_ensemble/viz/analyze_6_26_19/errors.mat\n",
      "/n/home02/daldarondo/LabDir/Diego/data/JDM31_imputation_test/models/model_ensemble/viz/analyze_6_26_19/errors.mat\n",
      "/n/home02/daldarondo/LabDir/Diego/data/JDM33/20171125/models/model_ensemble/viz/analyze_6_26_19/errors.mat\n"
     ]
    }
   ],
   "source": [
    "# Find all of the files that completed. \n",
    "def find_files(base_path, key):\n",
    "    return [f for f in Path(base_path).glob('**/' + key)]\n",
    "\n",
    "base_path = '/n/home02/daldarondo/LabDir/Diego/data'\n",
    "files = find_files(base_path, 'analyze_6_26_19/errors.mat')\n",
    "print(\"Data from: \")\n",
    "[print(f) for f in files]\n",
    "\n",
    "# Load the data\n",
    "data = [loadmat(f) for f in files]\n",
    "export_folder = '/n/holylfs02/LABS/olveczky_lab/Diego/code/MarkerBasedImputation/mbi/analysis/SyntheticGapAnalysis/images'\n",
    "if not os.path.isdir(export_folder):\n",
    "    os.makedirs(export_folder)\n",
    "plt.rcParams['font.size'] = 20\n"
   ]
  },
  {
   "cell_type": "code",
   "execution_count": 3,
   "metadata": {},
   "outputs": [
    {
     "name": "stdout",
     "output_type": "stream",
     "text": [
      "(1, 10)\n",
      "(1, 10)\n",
      "(1, 10)\n",
      "(1, 1)\n",
      "(1, 10)\n",
      "(1, 10)\n",
      "(1, 1)\n",
      "(1, 10)\n"
     ]
    }
   ],
   "source": [
    "for dat in data:\n",
    "    print(dat['delta_markers'].shape)"
   ]
  },
  {
   "cell_type": "markdown",
   "metadata": {},
   "source": [
    "## Find the median error at the mid-gap in sythetically generated gaps"
   ]
  },
  {
   "cell_type": "code",
   "execution_count": 4,
   "metadata": {},
   "outputs": [
    {
     "ename": "IndexError",
     "evalue": "index 1 is out of bounds for axis 1 with size 1",
     "output_type": "error",
     "traceback": [
      "\u001b[0;31m---------------------------------------------------------------------------\u001b[0m",
      "\u001b[0;31mIndexError\u001b[0m                                Traceback (most recent call last)",
      "\u001b[0;32m<ipython-input-4-a88c70143cac>\u001b[0m in \u001b[0;36m<module>\u001b[0;34m()\u001b[0m\n\u001b[1;32m      7\u001b[0m \u001b[0mind_median_error\u001b[0m \u001b[0;34m=\u001b[0m \u001b[0;34m[\u001b[0m\u001b[0;32mNone\u001b[0m\u001b[0;34m]\u001b[0m \u001b[0;34m*\u001b[0m \u001b[0mlen\u001b[0m\u001b[0;34m(\u001b[0m\u001b[0mfiles\u001b[0m\u001b[0;34m)\u001b[0m\u001b[0;34m\u001b[0m\u001b[0m\n\u001b[1;32m      8\u001b[0m \u001b[0;32mfor\u001b[0m \u001b[0mi\u001b[0m\u001b[0;34m,\u001b[0m \u001b[0md\u001b[0m \u001b[0;32min\u001b[0m \u001b[0menumerate\u001b[0m\u001b[0;34m(\u001b[0m\u001b[0mdata\u001b[0m\u001b[0;34m)\u001b[0m\u001b[0;34m:\u001b[0m\u001b[0;34m\u001b[0m\u001b[0m\n\u001b[0;32m----> 9\u001b[0;31m     \u001b[0merror\u001b[0m \u001b[0;34m=\u001b[0m \u001b[0;34m[\u001b[0m\u001b[0mget_midgap\u001b[0m\u001b[0;34m(\u001b[0m\u001b[0md\u001b[0m\u001b[0;34m[\u001b[0m\u001b[0;34m'delta_markers'\u001b[0m\u001b[0;34m]\u001b[0m\u001b[0;34m[\u001b[0m\u001b[0;36m0\u001b[0m\u001b[0;34m,\u001b[0m \u001b[0mlength\u001b[0m\u001b[0;34m]\u001b[0m\u001b[0;34m)\u001b[0m \u001b[0;32mfor\u001b[0m \u001b[0mlength\u001b[0m \u001b[0;32min\u001b[0m \u001b[0mrange\u001b[0m\u001b[0;34m(\u001b[0m\u001b[0mn_lengths\u001b[0m\u001b[0;34m)\u001b[0m\u001b[0;34m]\u001b[0m\u001b[0;34m\u001b[0m\u001b[0m\n\u001b[0m\u001b[1;32m     10\u001b[0m     \u001b[0mind_median_error\u001b[0m\u001b[0;34m[\u001b[0m\u001b[0mi\u001b[0m\u001b[0;34m]\u001b[0m \u001b[0;34m=\u001b[0m \u001b[0;34m[\u001b[0m\u001b[0mnp\u001b[0m\u001b[0;34m.\u001b[0m\u001b[0mnanmedian\u001b[0m\u001b[0;34m(\u001b[0m\u001b[0me\u001b[0m\u001b[0;34m,\u001b[0m \u001b[0maxis\u001b[0m\u001b[0;34m=\u001b[0m\u001b[0;36m0\u001b[0m\u001b[0;34m)\u001b[0m \u001b[0;32mfor\u001b[0m \u001b[0me\u001b[0m \u001b[0;32min\u001b[0m \u001b[0merror\u001b[0m\u001b[0;34m]\u001b[0m\u001b[0;34m\u001b[0m\u001b[0m\n\u001b[1;32m     11\u001b[0m     \u001b[0mind_median_error\u001b[0m\u001b[0;34m[\u001b[0m\u001b[0mi\u001b[0m\u001b[0;34m]\u001b[0m \u001b[0;34m=\u001b[0m \u001b[0mnp\u001b[0m\u001b[0;34m.\u001b[0m\u001b[0mstack\u001b[0m\u001b[0;34m(\u001b[0m\u001b[0mind_median_error\u001b[0m\u001b[0;34m[\u001b[0m\u001b[0mi\u001b[0m\u001b[0;34m]\u001b[0m\u001b[0;34m,\u001b[0m\u001b[0maxis\u001b[0m\u001b[0;34m=\u001b[0m\u001b[0;36m1\u001b[0m\u001b[0;34m)\u001b[0m\u001b[0;34m\u001b[0m\u001b[0m\n",
      "\u001b[0;32m<ipython-input-4-a88c70143cac>\u001b[0m in \u001b[0;36m<listcomp>\u001b[0;34m(.0)\u001b[0m\n\u001b[1;32m      7\u001b[0m \u001b[0mind_median_error\u001b[0m \u001b[0;34m=\u001b[0m \u001b[0;34m[\u001b[0m\u001b[0;32mNone\u001b[0m\u001b[0;34m]\u001b[0m \u001b[0;34m*\u001b[0m \u001b[0mlen\u001b[0m\u001b[0;34m(\u001b[0m\u001b[0mfiles\u001b[0m\u001b[0;34m)\u001b[0m\u001b[0;34m\u001b[0m\u001b[0m\n\u001b[1;32m      8\u001b[0m \u001b[0;32mfor\u001b[0m \u001b[0mi\u001b[0m\u001b[0;34m,\u001b[0m \u001b[0md\u001b[0m \u001b[0;32min\u001b[0m \u001b[0menumerate\u001b[0m\u001b[0;34m(\u001b[0m\u001b[0mdata\u001b[0m\u001b[0;34m)\u001b[0m\u001b[0;34m:\u001b[0m\u001b[0;34m\u001b[0m\u001b[0m\n\u001b[0;32m----> 9\u001b[0;31m     \u001b[0merror\u001b[0m \u001b[0;34m=\u001b[0m \u001b[0;34m[\u001b[0m\u001b[0mget_midgap\u001b[0m\u001b[0;34m(\u001b[0m\u001b[0md\u001b[0m\u001b[0;34m[\u001b[0m\u001b[0;34m'delta_markers'\u001b[0m\u001b[0;34m]\u001b[0m\u001b[0;34m[\u001b[0m\u001b[0;36m0\u001b[0m\u001b[0;34m,\u001b[0m \u001b[0mlength\u001b[0m\u001b[0;34m]\u001b[0m\u001b[0;34m)\u001b[0m \u001b[0;32mfor\u001b[0m \u001b[0mlength\u001b[0m \u001b[0;32min\u001b[0m \u001b[0mrange\u001b[0m\u001b[0;34m(\u001b[0m\u001b[0mn_lengths\u001b[0m\u001b[0;34m)\u001b[0m\u001b[0;34m]\u001b[0m\u001b[0;34m\u001b[0m\u001b[0m\n\u001b[0m\u001b[1;32m     10\u001b[0m     \u001b[0mind_median_error\u001b[0m\u001b[0;34m[\u001b[0m\u001b[0mi\u001b[0m\u001b[0;34m]\u001b[0m \u001b[0;34m=\u001b[0m \u001b[0;34m[\u001b[0m\u001b[0mnp\u001b[0m\u001b[0;34m.\u001b[0m\u001b[0mnanmedian\u001b[0m\u001b[0;34m(\u001b[0m\u001b[0me\u001b[0m\u001b[0;34m,\u001b[0m \u001b[0maxis\u001b[0m\u001b[0;34m=\u001b[0m\u001b[0;36m0\u001b[0m\u001b[0;34m)\u001b[0m \u001b[0;32mfor\u001b[0m \u001b[0me\u001b[0m \u001b[0;32min\u001b[0m \u001b[0merror\u001b[0m\u001b[0;34m]\u001b[0m\u001b[0;34m\u001b[0m\u001b[0m\n\u001b[1;32m     11\u001b[0m     \u001b[0mind_median_error\u001b[0m\u001b[0;34m[\u001b[0m\u001b[0mi\u001b[0m\u001b[0;34m]\u001b[0m \u001b[0;34m=\u001b[0m \u001b[0mnp\u001b[0m\u001b[0;34m.\u001b[0m\u001b[0mstack\u001b[0m\u001b[0;34m(\u001b[0m\u001b[0mind_median_error\u001b[0m\u001b[0;34m[\u001b[0m\u001b[0mi\u001b[0m\u001b[0;34m]\u001b[0m\u001b[0;34m,\u001b[0m\u001b[0maxis\u001b[0m\u001b[0;34m=\u001b[0m\u001b[0;36m1\u001b[0m\u001b[0;34m)\u001b[0m\u001b[0;34m\u001b[0m\u001b[0m\n",
      "\u001b[0;31mIndexError\u001b[0m: index 1 is out of bounds for axis 1 with size 1"
     ]
    }
   ],
   "source": [
    "def get_midgap(data):\n",
    "    midgap = np.floor(data.shape[1]/2).astype('int32')\n",
    "    return np.squeeze(data[:, midgap, :])\n",
    "\n",
    "# Get data for all individuals\n",
    "n_lengths = data[0]['delta_markers'].size\n",
    "ind_median_error = [None] * len(files)\n",
    "for i, d in enumerate(data):\n",
    "    error = [get_midgap(d['delta_markers'][0, length]) for length in range(n_lengths)]\n",
    "    ind_median_error[i] = [np.nanmedian(e, axis=0) for e in error]\n",
    "    ind_median_error[i] = np.stack(ind_median_error[i],axis=1)\n",
    "\n",
    "# Get data for aggregate\n",
    "agg_median_error = [None] * n_lengths\n",
    "for i, length in enumerate(range(n_lengths)):\n",
    "    error = [get_midgap(d['delta_markers'][0, length]) for d in data]\n",
    "    agg_median_error[i] = np.nanmedian(np.concatenate(error, axis=0), axis=0)\n",
    "\n",
    "agg_median_error = np.stack(agg_median_error, axis=1)"
   ]
  },
  {
   "cell_type": "markdown",
   "metadata": {},
   "source": [
    "## Plot aggregate data as a heat map"
   ]
  },
  {
   "cell_type": "code",
   "execution_count": null,
   "metadata": {},
   "outputs": [],
   "source": [
    "f, ax = plt.subplots(figsize=(12,8))\n",
    "kp_names = ['HeadF', 'HeadB', 'HeadL', 'SpineF', 'SpineM',\n",
    "            'SpineL', 'Offset1', 'Offset2', 'HipL', 'HipR',\n",
    "            'ElbowL', 'ArmL', 'ShoulderL', 'ShoulderR',\n",
    "            'ElbowR', 'ArmR', 'KneeR', 'KneeL', 'ShinL', 'ShinR']\n",
    "\n",
    "def delta_heatmap(data, ax):\n",
    "    n_lengths = data.shape[1]\n",
    "    inds = np.argsort(data[:,-1])\n",
    "    plt.imshow(data[inds, :],aspect=.5)\n",
    "    ax.set_yticks(range(data.shape[0]))\n",
    "    ax.set_yticklabels([kp_names[i] for i in inds])\n",
    "    ax.set_xticks(range(n_lengths))\n",
    "    ax.set_xticklabels([i*10 for i in range(1, n_lengths+1)])\n",
    "    ax.set_xlabel('Synthetic gap duration (frames)')\n",
    "    c = plt.colorbar()\n",
    "    c.ax.set_ylabel('Median error at mid-gap (mm)')\n",
    "    plt.rcParams['font.size'] = 20\n",
    "    \n",
    "delta_heatmap(agg_median_error, ax)\n",
    "save_path = os.path.join(export_folder, 'Aggregate_median_error_at_midgap.eps')\n",
    "plt.savefig(save_path)"
   ]
  },
  {
   "cell_type": "markdown",
   "metadata": {},
   "source": [
    "# Make the same plot for each individual"
   ]
  },
  {
   "cell_type": "code",
   "execution_count": null,
   "metadata": {
    "scrolled": false
   },
   "outputs": [],
   "source": [
    "ind_median_error[0].shape\n",
    "for i, f in enumerate(files):\n",
    "    fig, ax = plt.subplots(figsize=(12,8))\n",
    "    delta_heatmap(ind_median_error[i], ax)\n",
    "    rat_name = re.findall('JDM.*/*/', str(f))\n",
    "    rat_name = re.sub('/models/.*', '', rat_name[0]) \n",
    "    rat_name =  re.sub('/', ' ', rat_name)\n",
    "    ax.set_title(rat_name)\n",
    "    save_path = os.path.join(export_folder, rat_name + '_median_error_at_midgap.eps')\n",
    "    plt.savefig(save_path)\n",
    "    \n"
   ]
  },
  {
   "cell_type": "code",
   "execution_count": null,
   "metadata": {},
   "outputs": [],
   "source": [
    "kp_names_dim = np.repeat(kp_names, 3)\n",
    "for i, name in enumerate(kp_names_dim):\n",
    "    if np.mod(i, 3) == 0:\n",
    "        kp_names_dim[i] += '_x'\n",
    "    elif np.mod(i, 3) == 1:\n",
    "        kp_names_dim[i] += '_y'\n",
    "    elif np.mod(i, 3) == 2:\n",
    "        kp_names_dim[i] += '_z'"
   ]
  },
  {
   "cell_type": "code",
   "execution_count": null,
   "metadata": {},
   "outputs": [],
   "source": [
    "data[0].keys()"
   ]
  },
  {
   "cell_type": "code",
   "execution_count": null,
   "metadata": {},
   "outputs": [],
   "source": [
    "exp_params = {\n",
    "    'exp': 2,\n",
    "    'trace': 7500,\n",
    "    'length_id': 9,\n",
    "    'win': 75,\n",
    "    'input_length': 9,\n",
    "}\n",
    "\n",
    "def get_trace_context(data, exp=2, trace=7500, length_id=9, win=75):\n",
    "    lengths = np.arange(10,101,10)\n",
    "    input_length = 9\n",
    "    dat = data[exp]\n",
    "    input_ids = dat['input_ids'][0, length_id][trace, :]\n",
    "    start = np.min(input_ids)\n",
    "    ids = np.arange(start - win, start + win + input_length + lengths[length_id])\n",
    "    marker_stds = data[exp]['marker_stds']\n",
    "    marker_means = data[exp]['marker_means']\n",
    "    markers = dat['markers'][ids, :]*marker_stds + marker_means\n",
    "    return markers\n",
    "\n",
    "def names2logical(m_ids):\n",
    "    if m_ids is None:\n",
    "        m_ids = np.ones((len(kp_names_dim),), dtype=bool)\n",
    "    else:\n",
    "        m_ids = [any(part in name for part in m_ids) for name in kp_names_dim]\n",
    "    return np.array(m_ids)\n",
    "\n",
    "def get_prediction(data, exp=2, trace=270, length_id=0, win=75, m_ids=None):\n",
    "    marker_ids = names2logical(m_ids)\n",
    "    marker_stds = data[exp]['marker_stds']\n",
    "    marker_means = data[exp]['marker_means']\n",
    "    preds = data[exp]['predictions'][0, length_id]\n",
    "#     imputed_trace = np.round(trace / data[exp]['skip'].item()).astype('int32')\n",
    "    preds = preds[trace, :, marker_ids]\n",
    "    return preds.T\n",
    "\n",
    "# def get_prediction(data, exp=2, trace=7500, length_id=9, win=75, m_ids=None):\n",
    "#     marker_ids = names2logical(m_ids)\n",
    "#     target_ids = data[exp]['target_ids'][0, length_id][trace, :]\n",
    "#     imputed_trace = np.round(trace / data[exp]['skip'].item()).astype('int32')\n",
    "#     marker_stds = data[exp]['marker_stds']\n",
    "#     marker_means = data[exp]['marker_means']\n",
    "#     markers = data[exp]['markers'][target_ids[:-9], :].squeeze()*marker_stds + marker_means\n",
    "#     markers = markers[:, marker_ids]\n",
    "#     delta = data[exp]['delta_markers'][0,length_id][imputed_trace, :].squeeze()\n",
    "#     delta = np.repeat(delta, 3, axis=1)\n",
    "#     delta = delta[:, marker_ids]\n",
    "#     return delta + markers\n",
    "\n",
    "\n",
    "markers = get_trace_context(data)\n",
    "print(markers.shape)\n",
    "ids = names2logical(['Head'])\n",
    "predictions = get_prediction(data)"
   ]
  },
  {
   "cell_type": "code",
   "execution_count": null,
   "metadata": {},
   "outputs": [],
   "source": [
    "def zero_offset(y):\n",
    "    offset = np.nanmean(y)\n",
    "    y -= offset\n",
    "    return y, offset\n",
    "    \n",
    "def plot_traces(markers, predictions, m_names, p_names=None, win=75):\n",
    "    fig, ax = plt.subplots(nrows=1, ncols=1, figsize=(12,8))\n",
    "\n",
    "    # Get the marker ids\n",
    "    m_ids = np.argwhere(names2logical(m_names))\n",
    "    m_ids = [num.item() for num in m_ids]\n",
    "    p_ids = np.argwhere(names2logical(p_names))\n",
    "    p_ids = [num.item() for num in p_ids]\n",
    "    \n",
    "    # find which predictions to plot\n",
    "    marker_preds_to_plot = [any(pred in marker_name for pred in p_names) for marker_name in m_names]\n",
    "    # Set graph parameters\n",
    "    cmap = matplotlib.cm.get_cmap('Dark2')\n",
    "    dist = 30\n",
    "    ub = dist * len(m_ids)\n",
    "    spacing = np.arange(0, ub, dist)\n",
    "    spacing = spacing[::-1]\n",
    "    fs = 60\n",
    "    input_length = 9\n",
    "    mean_offset = [None]*len(m_ids)\n",
    "    \n",
    "    # Plot the context and ground truth\n",
    "    for i, marker_id in enumerate(m_ids):\n",
    "        y, mean_offset[i] = zero_offset(markers[:, marker_id])\n",
    "        y += spacing[i]\n",
    "        plt.plot(np.arange(0, markers.shape[0])/fs,\n",
    "                 y, color=cmap(i), linewidth=3)\n",
    "        \n",
    "    # Plot the imputed values\n",
    "    # Be wary of this one.\n",
    "    prediction_offset = -5\n",
    "    for i, marker_id in enumerate(m_ids):\n",
    "        if not marker_preds_to_plot[i]:\n",
    "            continue;\n",
    "        y = predictions[:, marker_id] - mean_offset[i]   \n",
    "        y += spacing[i]\n",
    "        y += prediction_offset\n",
    "        color = [c*.5 for c in cmap(i)]\n",
    "#         plt.plot(\n",
    "#             np.arange(\n",
    "#                 win + input_length, \n",
    "#                 win + input_length + predictions.shape[0])/fs,\n",
    "#             y, color=color, linewidth=3)\n",
    "        \n",
    "        # Plot original trace, replacing the gap with a prediction\n",
    "        orig, _ = zero_offset(markers[:, marker_id])\n",
    "        orig += spacing[i]\n",
    "        orig += prediction_offset\n",
    "        orig[win + input_length:win + input_length + predictions.shape[0]] = y\n",
    "        plt.plot(np.arange(0, markers.shape[0])/fs,\n",
    "                 orig, color=color, linewidth=3)\n",
    "    \n",
    "    # Set up legends, ticks, and vertical lines\n",
    "    h = [None]*len(m_ids)\n",
    "    for i in range(len(m_ids)):\n",
    "        h[i] = matplotlib.patches.Patch(color=cmap(i), label=m_names[i])\n",
    "    plt.legend(handles=h)\n",
    "    plt.xlabel('Time (seconds)')\n",
    "    plt.yticks(spacing)\n",
    "    ax.set_yticklabels([])\n",
    "    ymin, ymax = plt.ylim()\n",
    "    plt.vlines((win + input_length)/fs, ymin, ymax, linestyle='--')\n",
    "    plt.vlines((win + input_length + predictions.shape[0] )/fs, ymin, ymax, linestyle='--')\n",
    "    plt.ylim([ymin, ymax])\n",
    "    \n",
    "skip = data[0]['skip'].item()\n",
    "exp=2\n",
    "trace=500\n",
    "length_id=5\n",
    "win=51\n",
    "markers = get_trace_context(data,  exp=exp, trace=trace*skip, length_id=length_id, win=win)\n",
    "predictions = get_prediction(data, exp=exp, trace=trace, length_id=length_id, win=win)\n",
    "plot_traces(markers, predictions, ['HeadF_x', 'ArmR_x', 'HipL_x'], ['HeadF_x', 'ArmR_x', 'HipL_x'], win=win)\n",
    "\n",
    "save_path = os.path.join(export_folder, 'trace_example.eps')\n",
    "plt.savefig(save_path)"
   ]
  },
  {
   "cell_type": "code",
   "execution_count": null,
   "metadata": {},
   "outputs": [],
   "source": [
    "\n"
   ]
  }
 ],
 "metadata": {
  "kernelspec": {
   "display_name": "Python [conda env:tf1.4_cuda8]",
   "language": "python",
   "name": "conda-env-tf1.4_cuda8-py"
  },
  "language_info": {
   "codemirror_mode": {
    "name": "ipython",
    "version": 3
   },
   "file_extension": ".py",
   "mimetype": "text/x-python",
   "name": "python",
   "nbconvert_exporter": "python",
   "pygments_lexer": "ipython3",
   "version": "3.6.5"
  }
 },
 "nbformat": 4,
 "nbformat_minor": 2
}
